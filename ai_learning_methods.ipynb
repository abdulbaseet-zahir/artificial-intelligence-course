{
 "cells": [
  {
   "cell_type": "markdown",
   "metadata": {},
   "source": [
    "# Artificial intelligence learning methods\n"
   ]
  },
  {
   "cell_type": "markdown",
   "metadata": {},
   "source": [
    "## Supervised learning\n",
    "\n",
    "Supervised learning is a type of machine learning where the model learns from labeled data, which means the data has a correct answer or output. The model tries to find a function that can map the input data to the output data accurately. For example, if you want to train a model to recognize handwritten digits, you need to provide a lot of images of digits with their correct labels (0, 1, 2, …, 9). The model will then adjust its parameters to minimize the error between its predictions and the labels.\n",
    "\n",
    "#### Algorithms:\n",
    "\n",
    "- Linear regression\n",
    "- Logistic regression\n",
    "- Decision tree\n",
    "- Random forest\n",
    "- Support vector machine\n"
   ]
  },
  {
   "cell_type": "markdown",
   "metadata": {},
   "source": [
    "## Unsupervised Learning\n",
    "\n",
    "Unsupervised learning is a type of machine learning where the model learns from unlabeled data, which means the data does not have a correct answer or output. The model tries to find patterns, structures, or features in the data without any guidance. For example, if you want to group customers based on their preferences, you need to provide a lot of data about their behaviors, purchases, ratings, etc. The model will then cluster the customers into different segments based on their similarities or differences. Unsupervised learning can be used for tasks such as clustering, association, and dimensionality reduction12\n",
    "\n",
    "#### Algorithms:\n",
    "\n",
    "- K-means\n",
    "- Hierarchical clustering\n",
    "- Principal component analysis (PCA)\n",
    "- Apriori\n"
   ]
  },
  {
   "cell_type": "markdown",
   "metadata": {},
   "source": [
    "## Reinforcement learning\n",
    "\n",
    "Reinforcement learning is a type of machine learning where the model learns from its own actions and rewards, rather than from labeled data or explicit feedback. The model tries to find the best policy or strategy that can maximize the expected cumulative reward over time. For example, if you want to train a model to play chess, you need to provide a way of measuring the reward for each move, such as winning, losing, or drawing the game. The model will then explore different moves and learn from their consequences, improving its performance over time.\n",
    "\n",
    "#### Algorithms:\n",
    "\n",
    "- Q-learning\n",
    "- SARSA\n",
    "- DQN\n",
    "- Policy gradient\n"
   ]
  },
  {
   "cell_type": "markdown",
   "metadata": {},
   "source": []
  }
 ],
 "metadata": {
  "language_info": {
   "name": "python"
  }
 },
 "nbformat": 4,
 "nbformat_minor": 2
}
