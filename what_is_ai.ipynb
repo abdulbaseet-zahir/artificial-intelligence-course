{
 "cells": [
  {
   "cell_type": "markdown",
   "metadata": {},
   "source": [
    "# What is Artificial Intelligence?\n"
   ]
  },
  {
   "cell_type": "markdown",
   "metadata": {},
   "source": [
    "## AI\n",
    "\n",
    "AI stands for artificial intelligence, which is the ability of machines or software to perform tasks that normally require human intelligence, such as understanding language, recognizing images, making decisions, or solving problems.\n",
    "\n",
    "### Fields:\n",
    "\n",
    "- Machine learning\n",
    "- Deep learning\n",
    "- Natural Language Processing\n",
    "- Computer Vision\n",
    "\n",
    "### Applications:\n",
    "\n",
    "- Speech to text\n",
    "- Recommendation systems\n",
    "- Self-driving cars\n",
    "- Facial recognition\n",
    "- Chatbots\n"
   ]
  },
  {
   "cell_type": "markdown",
   "metadata": {},
   "source": [
    "## Machine learning\n",
    "\n",
    "Machine learning is a subfield of artificial intelligence that uses algorithms trained on data sets to create models that enable machines to perform tasks that would otherwise only be possible for humans, such as categorizing images, analyzing data, or predicting price fluctuations. Machine learning algorithms can learn from data and improve their performance over time, without requiring explicit instructions.\n",
    "\n",
    "### Algorithms:\n",
    "\n",
    "- Linear Regression\n",
    "- Logistic Regression\n",
    "- Decision Tree\n",
    "- Support Vector Machines\n",
    "- K-Mean Clustering\n"
   ]
  },
  {
   "cell_type": "markdown",
   "metadata": {},
   "source": [
    "## Deep learning\n",
    "\n",
    "Deep learning is a subfield of machine learning that uses artificial neural networks with multiple layers to simulate the behavior of the human brain and learn from large amounts of data. Deep learning algorithms can automatically learn and improve from data without the need for manual feature engineering. Deep learning differs from machine learning in that it can handle unstructured data, such as text and images, and it can discover hierarchical patterns and features in the data.\n",
    "\n",
    "### Architectures:\n",
    "\n",
    "- Convolutional neural networks\n",
    "- Recurrent neural networks\n",
    "- Transformers\n"
   ]
  },
  {
   "cell_type": "markdown",
   "metadata": {},
   "source": [
    "# Machine learning vs Deep learning\n",
    "\n",
    "Machine learning and deep learning are both types of artificial intelligence that use data and algorithms to perform tasks that require human intelligence. However, they differ in the following ways:\n",
    "\n",
    "- Machine learning can train on smaller data sets, while deep learning requires large amounts of data to learn from.\n",
    "- Machine learning requires more human intervention to correct and learn from mistakes, while deep learning learns on its own from the environment and past experiences.\n",
    "- Machine learning makes simple, linear correlations between inputs and outputs, while deep learning makes non-linear, complex correlations that can capture hidden patterns and features.\n",
    "- Machine learning can train on a CPU, while deep learning needs a specialized GPU to handle the high computational complexity of neural networks.\n",
    "- Machine learning is a broader field that includes many subtypes, such as supervised, unsupervised, and reinforcement learning, while deep learning is a subset of machine learning that uses neural networks with multiple layers.\n"
   ]
  },
  {
   "cell_type": "markdown",
   "metadata": {},
   "source": [
    "## Non AI Algorithms\n",
    "\n",
    "Non AI algorithms are algorithms that do not involve learning from data or experience, but rather follow a fixed set of rules or instructions to solve a problem.\n",
    "\n",
    "### Examples:\n",
    "\n",
    "- Sorting algorithms\n",
    "- Searching algorithms\n",
    "- Graph algorithms\n",
    "- Encryption algorithms\n",
    "- Compression algorithms\n"
   ]
  }
 ],
 "metadata": {
  "kernelspec": {
   "display_name": "Python 3",
   "language": "python",
   "name": "python3"
  },
  "language_info": {
   "name": "python",
   "version": "3.11.7"
  }
 },
 "nbformat": 4,
 "nbformat_minor": 2
}
